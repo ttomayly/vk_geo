{
  "cells": [
    {
      "cell_type": "code",
      "execution_count": 1,
      "metadata": {
        "id": "85bKfM1Ab9ac"
      },
      "outputs": [],
      "source": [
        "import pandas as pd\n",
        "import pickle"
      ]
    },
    {
      "cell_type": "code",
      "execution_count": 2,
      "metadata": {
        "colab": {
          "base_uri": "https://localhost:8080/",
          "height": 419
        },
        "id": "JW-mCU__b9ah",
        "outputId": "833ae36c-adb7-4428-a1e6-0a74661a7461"
      },
      "outputs": [
        {
          "data": {
            "text/html": [
              "<div>\n",
              "<style scoped>\n",
              "    .dataframe tbody tr th:only-of-type {\n",
              "        vertical-align: middle;\n",
              "    }\n",
              "\n",
              "    .dataframe tbody tr th {\n",
              "        vertical-align: top;\n",
              "    }\n",
              "\n",
              "    .dataframe thead th {\n",
              "        text-align: right;\n",
              "    }\n",
              "</style>\n",
              "<table border=\"1\" class=\"dataframe\">\n",
              "  <thead>\n",
              "    <tr style=\"text-align: right;\">\n",
              "      <th></th>\n",
              "      <th>id</th>\n",
              "      <th>lat</th>\n",
              "      <th>lon</th>\n",
              "    </tr>\n",
              "  </thead>\n",
              "  <tbody>\n",
              "    <tr>\n",
              "      <th>0</th>\n",
              "      <td>3084</td>\n",
              "      <td>55.782276</td>\n",
              "      <td>49.148234</td>\n",
              "    </tr>\n",
              "    <tr>\n",
              "      <th>1</th>\n",
              "      <td>3085</td>\n",
              "      <td>56.841500</td>\n",
              "      <td>35.853059</td>\n",
              "    </tr>\n",
              "    <tr>\n",
              "      <th>2</th>\n",
              "      <td>3086</td>\n",
              "      <td>55.356780</td>\n",
              "      <td>86.156697</td>\n",
              "    </tr>\n",
              "    <tr>\n",
              "      <th>3</th>\n",
              "      <td>3087</td>\n",
              "      <td>56.755087</td>\n",
              "      <td>60.703962</td>\n",
              "    </tr>\n",
              "    <tr>\n",
              "      <th>4</th>\n",
              "      <td>3088</td>\n",
              "      <td>59.907438</td>\n",
              "      <td>30.250297</td>\n",
              "    </tr>\n",
              "    <tr>\n",
              "      <th>...</th>\n",
              "      <td>...</td>\n",
              "      <td>...</td>\n",
              "      <td>...</td>\n",
              "    </tr>\n",
              "    <tr>\n",
              "      <th>1024</th>\n",
              "      <td>4108</td>\n",
              "      <td>51.692337</td>\n",
              "      <td>39.143301</td>\n",
              "    </tr>\n",
              "    <tr>\n",
              "      <th>1025</th>\n",
              "      <td>4109</td>\n",
              "      <td>56.309197</td>\n",
              "      <td>43.987060</td>\n",
              "    </tr>\n",
              "    <tr>\n",
              "      <th>1026</th>\n",
              "      <td>4110</td>\n",
              "      <td>59.898712</td>\n",
              "      <td>30.484624</td>\n",
              "    </tr>\n",
              "    <tr>\n",
              "      <th>1027</th>\n",
              "      <td>4111</td>\n",
              "      <td>54.991157</td>\n",
              "      <td>73.407459</td>\n",
              "    </tr>\n",
              "    <tr>\n",
              "      <th>1028</th>\n",
              "      <td>4112</td>\n",
              "      <td>54.377385</td>\n",
              "      <td>48.565615</td>\n",
              "    </tr>\n",
              "  </tbody>\n",
              "</table>\n",
              "<p>1029 rows × 3 columns</p>\n",
              "</div>"
            ],
            "text/plain": [
              "        id        lat        lon\n",
              "0     3084  55.782276  49.148234\n",
              "1     3085  56.841500  35.853059\n",
              "2     3086  55.356780  86.156697\n",
              "3     3087  56.755087  60.703962\n",
              "4     3088  59.907438  30.250297\n",
              "...    ...        ...        ...\n",
              "1024  4108  51.692337  39.143301\n",
              "1025  4109  56.309197  43.987060\n",
              "1026  4110  59.898712  30.484624\n",
              "1027  4111  54.991157  73.407459\n",
              "1028  4112  54.377385  48.565615\n",
              "\n",
              "[1029 rows x 3 columns]"
            ]
          },
          "execution_count": 2,
          "metadata": {},
          "output_type": "execute_result"
        }
      ],
      "source": [
        "test = pd.read_csv('test.csv')\n",
        "test"
      ]
    },
    {
      "cell_type": "code",
      "execution_count": 3,
      "metadata": {},
      "outputs": [],
      "source": [
        "with open('model.pickle', 'rb') as file:\n",
        "  model_from_pickle = pickle.load(file)"
      ]
    },
    {
      "cell_type": "code",
      "execution_count": 4,
      "metadata": {},
      "outputs": [
        {
          "name": "stderr",
          "output_type": "stream",
          "text": [
            "/var/folders/k6/5hyk6q2d373gjlf_748hr6f40000gn/T/ipykernel_87211/688742281.py:4: SettingWithCopyWarning: \n",
            "A value is trying to be set on a copy of a slice from a DataFrame.\n",
            "Try using .loc[row_indexer,col_indexer] = value instead\n",
            "\n",
            "See the caveats in the documentation: https://pandas.pydata.org/pandas-docs/stable/user_guide/indexing.html#returning-a-view-versus-a-copy\n",
            "  submission['lon'] = predictions\n",
            "/var/folders/k6/5hyk6q2d373gjlf_748hr6f40000gn/T/ipykernel_87211/688742281.py:5: SettingWithCopyWarning: \n",
            "A value is trying to be set on a copy of a slice from a DataFrame\n",
            "\n",
            "See the caveats in the documentation: https://pandas.pydata.org/pandas-docs/stable/user_guide/indexing.html#returning-a-view-versus-a-copy\n",
            "  submission.rename(columns={'lon': 'score'}, inplace=True)\n"
          ]
        }
      ],
      "source": [
        "predictions = model_from_pickle.predict(test.drop(columns=['id']))\n",
        "\n",
        "submission = test[['id', 'lon']]\n",
        "submission['lon'] = predictions\n",
        "submission.rename(columns={'lon': 'score'}, inplace=True)\n",
        "\n",
        "submission.to_csv('submission.csv', sep=',', index=False)"
      ]
    }
  ],
  "metadata": {
    "colab": {
      "provenance": []
    },
    "kernelspec": {
      "display_name": "Python 3",
      "language": "python",
      "name": "python3"
    },
    "language_info": {
      "codemirror_mode": {
        "name": "ipython",
        "version": 3
      },
      "file_extension": ".py",
      "mimetype": "text/x-python",
      "name": "python",
      "nbconvert_exporter": "python",
      "pygments_lexer": "ipython3",
      "version": "3.10.0"
    },
    "orig_nbformat": 4
  },
  "nbformat": 4,
  "nbformat_minor": 0
}
